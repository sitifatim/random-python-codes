{
 "cells": [
  {
   "cell_type": "code",
   "execution_count": 96,
   "id": "96039719",
   "metadata": {},
   "outputs": [
    {
     "name": "stdout",
     "output_type": "stream",
     "text": [
      "5\n",
      "2 4 3 3 1\n"
     ]
    }
   ],
   "source": [
    "n = int(input())\n",
    "arr = list(map(int, input().split()))"
   ]
  },
  {
   "cell_type": "code",
   "execution_count": 97,
   "id": "5a2511ca",
   "metadata": {},
   "outputs": [
    {
     "name": "stdout",
     "output_type": "stream",
     "text": [
      "[1, 2, 3, 3, 4]\n"
     ]
    }
   ],
   "source": [
    "arr.sort()\n",
    "print(arr)"
   ]
  },
  {
   "cell_type": "code",
   "execution_count": 98,
   "id": "37a6c6fa",
   "metadata": {},
   "outputs": [],
   "source": [
    "count = arr.count(max(arr))"
   ]
  },
  {
   "cell_type": "code",
   "execution_count": 101,
   "id": "885ebdda",
   "metadata": {},
   "outputs": [],
   "source": [
    "for i in range(count):\n",
    "    arr.remove(max(arr))"
   ]
  },
  {
   "cell_type": "code",
   "execution_count": 102,
   "id": "506b46e6",
   "metadata": {},
   "outputs": [
    {
     "name": "stdout",
     "output_type": "stream",
     "text": [
      "3\n"
     ]
    }
   ],
   "source": [
    "print(arr[-1])"
   ]
  },
  {
   "cell_type": "code",
   "execution_count": 99,
   "id": "85b17cae",
   "metadata": {},
   "outputs": [
    {
     "name": "stdout",
     "output_type": "stream",
     "text": [
      "1\n"
     ]
    }
   ],
   "source": [
    "print(count)"
   ]
  },
  {
   "cell_type": "code",
   "execution_count": 43,
   "id": "7e510bc3",
   "metadata": {},
   "outputs": [
    {
     "name": "stdout",
     "output_type": "stream",
     "text": [
      "4\n"
     ]
    }
   ],
   "source": [
    "if n == arr[-1]:\n",
    "    print(arr[-1])\n",
    "elif n == arr[-2]:\n",
    "    print(arr[-2])\n",
    "elif n == arr[-3]:\n",
    "    print(arr[-3])\n",
    "else:\n",
    "    print(\"Tidak ditemukan\")"
   ]
  },
  {
   "cell_type": "code",
   "execution_count": 44,
   "id": "ee2fc5a0",
   "metadata": {},
   "outputs": [
    {
     "name": "stdout",
     "output_type": "stream",
     "text": [
      "4\n"
     ]
    }
   ],
   "source": [
    "if arr[-2] < arr[-1]:\n",
    "    print(arr[-2])\n",
    "elif arr[-2] == arr[-1] and arr[-3] < arr[-2]:\n",
    "    print(arr[-3])\n",
    "else:\n",
    "    print(\"ksoonh\")"
   ]
  },
  {
   "cell_type": "code",
   "execution_count": 47,
   "id": "c86d55f9",
   "metadata": {},
   "outputs": [
    {
     "ename": "AttributeError",
     "evalue": "'list' object has no attribute 'sorted'",
     "output_type": "error",
     "traceback": [
      "\u001b[1;31m---------------------------------------------------------------------------\u001b[0m",
      "\u001b[1;31mAttributeError\u001b[0m                            Traceback (most recent call last)",
      "Input \u001b[1;32mIn [47]\u001b[0m, in \u001b[0;36m<cell line: 1>\u001b[1;34m()\u001b[0m\n\u001b[1;32m----> 1\u001b[0m \u001b[43marr\u001b[49m\u001b[38;5;241;43m.\u001b[39;49m\u001b[43msorted\u001b[49m()\n",
      "\u001b[1;31mAttributeError\u001b[0m: 'list' object has no attribute 'sorted'"
     ]
    }
   ],
   "source": [
    "arr.sorted()"
   ]
  },
  {
   "cell_type": "code",
   "execution_count": null,
   "id": "dc9a732f",
   "metadata": {},
   "outputs": [],
   "source": []
  }
 ],
 "metadata": {
  "kernelspec": {
   "display_name": "Python 3 (ipykernel)",
   "language": "python",
   "name": "python3"
  },
  "language_info": {
   "codemirror_mode": {
    "name": "ipython",
    "version": 3
   },
   "file_extension": ".py",
   "mimetype": "text/x-python",
   "name": "python",
   "nbconvert_exporter": "python",
   "pygments_lexer": "ipython3",
   "version": "3.9.12"
  }
 },
 "nbformat": 4,
 "nbformat_minor": 5
}
