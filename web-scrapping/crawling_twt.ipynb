{
 "cells": [
  {
   "cell_type": "code",
   "execution_count": 1,
   "id": "cd57e95a",
   "metadata": {},
   "outputs": [],
   "source": [
    "import snscrape.modules.twitter as sntwitter\n",
    "import pandas as pd"
   ]
  },
  {
   "cell_type": "code",
   "execution_count": 10,
   "id": "adc5a156",
   "metadata": {},
   "outputs": [],
   "source": [
    "pd.options.display.max_colwidth=100"
   ]
  },
  {
   "cell_type": "code",
   "execution_count": 12,
   "id": "65177b16",
   "metadata": {},
   "outputs": [
    {
     "name": "stdout",
     "output_type": "stream",
     "text": [
      "CPU times: total: 0 ns\n",
      "Wall time: 0 ns\n",
      "start\n",
      "finish\n"
     ]
    }
   ],
   "source": [
    "query = \"(bts fifa) lang:en until:2022-08-04 since:2022-07-28\"\n",
    "tweets = []\n",
    "limit = 3000\n",
    "\n",
    "%time\n",
    "try:\n",
    "    print(\"start\")\n",
    "    for tweet in sntwitter.TwitterSearchScraper(query=query).get_items():\n",
    "        if len(tweets) == limit:\n",
    "            break\n",
    "        else:\n",
    "            tweets.append([tweet.date, tweet.content])\n",
    "    df = pd.DataFrame(tweets, columns=['datetime', 'content'])\n",
    "except Exception as e:\n",
    "    print(e)\n",
    "\n",
    "print('finish')"
   ]
  },
  {
   "cell_type": "code",
   "execution_count": 13,
   "id": "52e4d79f",
   "metadata": {},
   "outputs": [
    {
     "data": {
      "text/html": [
       "<div>\n",
       "<style scoped>\n",
       "    .dataframe tbody tr th:only-of-type {\n",
       "        vertical-align: middle;\n",
       "    }\n",
       "\n",
       "    .dataframe tbody tr th {\n",
       "        vertical-align: top;\n",
       "    }\n",
       "\n",
       "    .dataframe thead th {\n",
       "        text-align: right;\n",
       "    }\n",
       "</style>\n",
       "<table border=\"1\" class=\"dataframe\">\n",
       "  <thead>\n",
       "    <tr style=\"text-align: right;\">\n",
       "      <th></th>\n",
       "      <th>datetime</th>\n",
       "      <th>content</th>\n",
       "    </tr>\n",
       "  </thead>\n",
       "  <tbody>\n",
       "    <tr>\n",
       "      <th>0</th>\n",
       "      <td>2022-08-03 23:08:38+00:00</td>\n",
       "      <td>@reveksj she was dating a footballer but at the end of the day, bts and fifa both win if they si...</td>\n",
       "    </tr>\n",
       "    <tr>\n",
       "      <th>1</th>\n",
       "      <td>2022-08-03 22:40:55+00:00</td>\n",
       "      <td>220803\\n[bts news📰]\\n\\nbts announces 'world cup dong' in line with the 2022 FIFA world cup in qa...</td>\n",
       "    </tr>\n",
       "    <tr>\n",
       "      <th>2</th>\n",
       "      <td>2022-08-03 22:02:25+00:00</td>\n",
       "      <td>bts shoudent be perfoming and coming in our football community and running it fifa has to stop t...</td>\n",
       "    </tr>\n",
       "    <tr>\n",
       "      <th>3</th>\n",
       "      <td>2022-08-03 22:01:22+00:00</td>\n",
       "      <td>@psykkey @carstiels what makes jason derulo more fifa song making material than bts</td>\n",
       "    </tr>\n",
       "    <tr>\n",
       "      <th>4</th>\n",
       "      <td>2022-08-03 21:31:10+00:00</td>\n",
       "      <td>@mofasaverse No idea but bts doing a song for fifa would be iconic why are people suddenly actin...</td>\n",
       "    </tr>\n",
       "    <tr>\n",
       "      <th>...</th>\n",
       "      <td>...</td>\n",
       "      <td>...</td>\n",
       "    </tr>\n",
       "    <tr>\n",
       "      <th>2233</th>\n",
       "      <td>2022-07-28 00:16:52+00:00</td>\n",
       "      <td>In the second half of this year, BTS will carry out a collaboration project called \"2022 FIFA Qa...</td>\n",
       "    </tr>\n",
       "    <tr>\n",
       "      <th>2234</th>\n",
       "      <td>2022-07-28 00:16:50+00:00</td>\n",
       "      <td>Officially announced tht BTS in the second half of the year will COLLAB with Hyundai for the FIF...</td>\n",
       "    </tr>\n",
       "    <tr>\n",
       "      <th>2235</th>\n",
       "      <td>2022-07-28 00:16:18+00:00</td>\n",
       "      <td>BTS FIFA SONG\\nBTS LEGEND https://t.co/0OvHj6FXb7</td>\n",
       "    </tr>\n",
       "    <tr>\n",
       "      <th>2236</th>\n",
       "      <td>2022-07-28 00:13:34+00:00</td>\n",
       "      <td>BTS x FIFA is happening 😭</td>\n",
       "    </tr>\n",
       "    <tr>\n",
       "      <th>2237</th>\n",
       "      <td>2022-07-28 00:11:23+00:00</td>\n",
       "      <td>BTS WILL RELEASE A SONG FOR FIFA OMG 😳 https://t.co/P5Y5hNxhc1</td>\n",
       "    </tr>\n",
       "  </tbody>\n",
       "</table>\n",
       "<p>2238 rows × 2 columns</p>\n",
       "</div>"
      ],
      "text/plain": [
       "                      datetime  \\\n",
       "0    2022-08-03 23:08:38+00:00   \n",
       "1    2022-08-03 22:40:55+00:00   \n",
       "2    2022-08-03 22:02:25+00:00   \n",
       "3    2022-08-03 22:01:22+00:00   \n",
       "4    2022-08-03 21:31:10+00:00   \n",
       "...                        ...   \n",
       "2233 2022-07-28 00:16:52+00:00   \n",
       "2234 2022-07-28 00:16:50+00:00   \n",
       "2235 2022-07-28 00:16:18+00:00   \n",
       "2236 2022-07-28 00:13:34+00:00   \n",
       "2237 2022-07-28 00:11:23+00:00   \n",
       "\n",
       "                                                                                                  content  \n",
       "0     @reveksj she was dating a footballer but at the end of the day, bts and fifa both win if they si...  \n",
       "1     220803\\n[bts news📰]\\n\\nbts announces 'world cup dong' in line with the 2022 FIFA world cup in qa...  \n",
       "2     bts shoudent be perfoming and coming in our football community and running it fifa has to stop t...  \n",
       "3                     @psykkey @carstiels what makes jason derulo more fifa song making material than bts  \n",
       "4     @mofasaverse No idea but bts doing a song for fifa would be iconic why are people suddenly actin...  \n",
       "...                                                                                                   ...  \n",
       "2233  In the second half of this year, BTS will carry out a collaboration project called \"2022 FIFA Qa...  \n",
       "2234  Officially announced tht BTS in the second half of the year will COLLAB with Hyundai for the FIF...  \n",
       "2235                                                    BTS FIFA SONG\\nBTS LEGEND https://t.co/0OvHj6FXb7  \n",
       "2236                                                                            BTS x FIFA is happening 😭  \n",
       "2237                                       BTS WILL RELEASE A SONG FOR FIFA OMG 😳 https://t.co/P5Y5hNxhc1  \n",
       "\n",
       "[2238 rows x 2 columns]"
      ]
     },
     "execution_count": 13,
     "metadata": {},
     "output_type": "execute_result"
    }
   ],
   "source": [
    "df"
   ]
  },
  {
   "cell_type": "code",
   "execution_count": 14,
   "id": "0194494a",
   "metadata": {},
   "outputs": [],
   "source": [
    "df.to_csv('fifa.csv', index=False)"
   ]
  },
  {
   "cell_type": "code",
   "execution_count": null,
   "id": "54e0240c",
   "metadata": {},
   "outputs": [],
   "source": []
  }
 ],
 "metadata": {
  "kernelspec": {
   "display_name": "Python 3 (ipykernel)",
   "language": "python",
   "name": "python3"
  },
  "language_info": {
   "codemirror_mode": {
    "name": "ipython",
    "version": 3
   },
   "file_extension": ".py",
   "mimetype": "text/x-python",
   "name": "python",
   "nbconvert_exporter": "python",
   "pygments_lexer": "ipython3",
   "version": "3.9.12"
  }
 },
 "nbformat": 4,
 "nbformat_minor": 5
}
